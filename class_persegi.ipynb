{
  "nbformat": 4,
  "nbformat_minor": 0,
  "metadata": {
    "colab": {
      "provenance": [],
      "authorship_tag": "ABX9TyOLdnBeCj3mT4IOIfHv2i5p",
      "include_colab_link": true
    },
    "kernelspec": {
      "name": "python3",
      "display_name": "Python 3"
    },
    "language_info": {
      "name": "python"
    }
  },
  "cells": [
    {
      "cell_type": "markdown",
      "metadata": {
        "id": "view-in-github",
        "colab_type": "text"
      },
      "source": [
        "<a href=\"https://colab.research.google.com/github/nawalfaazatzakia/PBO/blob/main/class_persegi.ipynb\" target=\"_parent\"><img src=\"https://colab.research.google.com/assets/colab-badge.svg\" alt=\"Open In Colab\"/></a>"
      ]
    },
    {
      "cell_type": "code",
      "execution_count": 1,
      "metadata": {
        "colab": {
          "base_uri": "https://localhost:8080/"
        },
        "id": "nX4_UaXxP6ZD",
        "outputId": "ee6979c2-759e-47e5-e9cf-74dfa5b86bdc"
      },
      "outputs": [
        {
          "output_type": "stream",
          "name": "stdout",
          "text": [
            "Luas persegi=16.00\n"
          ]
        }
      ],
      "source": [
        "#kelas persegi\n",
        "class Persegi:\n",
        "    def __init__(self):\n",
        "        self.sisi = 0.0\n",
        "\n",
        "def main():\n",
        "    #membuat objek dari kelas persegi\n",
        "    obj = Persegi()\n",
        "    #mengisi nilai ke dalam atribut obj\n",
        "    obj.sisi = 4\n",
        "    #menggunakan atribut untuk perhitungan\n",
        "    luas = obj.sisi ** 2\n",
        "    print('Luas persegi=%.2f' % luas)\n",
        "\n",
        "if __name__ == '__main__':\n",
        "    main()"
      ]
    }
  ]
}
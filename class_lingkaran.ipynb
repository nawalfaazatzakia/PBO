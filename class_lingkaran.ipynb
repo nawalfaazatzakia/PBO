{
  "nbformat": 4,
  "nbformat_minor": 0,
  "metadata": {
    "colab": {
      "provenance": [],
      "authorship_tag": "ABX9TyNIwDb1D/ivlcA+/RsHZ3vA",
      "include_colab_link": true
    },
    "kernelspec": {
      "name": "python3",
      "display_name": "Python 3"
    },
    "language_info": {
      "name": "python"
    }
  },
  "cells": [
    {
      "cell_type": "markdown",
      "metadata": {
        "id": "view-in-github",
        "colab_type": "text"
      },
      "source": [
        "<a href=\"https://colab.research.google.com/github/nawalfaazatzakia/PBO/blob/main/class_lingkaran.ipynb\" target=\"_parent\"><img src=\"https://colab.research.google.com/assets/colab-badge.svg\" alt=\"Open In Colab\"/></a>"
      ]
    },
    {
      "cell_type": "code",
      "execution_count": 1,
      "metadata": {
        "colab": {
          "base_uri": "https://localhost:8080/"
        },
        "id": "ZXprEhspPAzO",
        "outputId": "c653e600-1097-4ab5-8d6a-ede5fb0c586d"
      },
      "outputs": [
        {
          "output_type": "stream",
          "name": "stdout",
          "text": [
            "Luas lingkaran=78.50\n"
          ]
        }
      ],
      "source": [
        "#kelas lingkaran\n",
        "class Lingkaran:\n",
        "    def __init__(self):\n",
        "        self.radius = 0.0\n",
        "\n",
        "def main():\n",
        "    #membuat objek dari kelas lingkaran\n",
        "    obj = Lingkaran()\n",
        "    #mengisi nilai ke dalam atribut obj\n",
        "    obj.radius = 5\n",
        "    #menggunakan atribut untuk perhitungan\n",
        "    luas = 3.14 * (obj.radius ** 2)\n",
        "    print('Luas lingkaran=%.2f' % luas)\n",
        "\n",
        "if __name__ == '__main__':\n",
        "    main()"
      ]
    }
  ]
}
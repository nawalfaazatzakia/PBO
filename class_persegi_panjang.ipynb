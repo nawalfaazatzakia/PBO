{
  "nbformat": 4,
  "nbformat_minor": 0,
  "metadata": {
    "colab": {
      "provenance": [],
      "authorship_tag": "ABX9TyPRNHoBWUFrt26bMlXA2toN",
      "include_colab_link": true
    },
    "kernelspec": {
      "name": "python3",
      "display_name": "Python 3"
    },
    "language_info": {
      "name": "python"
    }
  },
  "cells": [
    {
      "cell_type": "markdown",
      "metadata": {
        "id": "view-in-github",
        "colab_type": "text"
      },
      "source": [
        "<a href=\"https://colab.research.google.com/github/nawalfaazatzakia/PBO/blob/main/class_persegi_panjang.ipynb\" target=\"_parent\"><img src=\"https://colab.research.google.com/assets/colab-badge.svg\" alt=\"Open In Colab\"/></a>"
      ]
    },
    {
      "cell_type": "code",
      "execution_count": 1,
      "metadata": {
        "colab": {
          "base_uri": "https://localhost:8080/"
        },
        "id": "VcLCeCz9RL8D",
        "outputId": "cc17287f-3877-4360-945d-876daf0b4b67"
      },
      "outputs": [
        {
          "output_type": "stream",
          "name": "stdout",
          "text": [
            "Luas persegi panjang=18.00\n"
          ]
        }
      ],
      "source": [
        "#kelas persegi panjang\n",
        "class PersegiPanjang:\n",
        "    def __init__(self):\n",
        "        self.panjang = 0.0\n",
        "        self.lebar = 0.0\n",
        "\n",
        "def main():\n",
        "    #membuat objek dari kelas persegi panjang\n",
        "    obj = PersegiPanjang()\n",
        "    #mengisi nilai ke dalam atribut obj\n",
        "    obj.panjang = 6\n",
        "    obj.lebar = 3\n",
        "    #menggunakan atribut untuk perhitungan\n",
        "    luas = obj.panjang * obj.lebar\n",
        "    print('Luas persegi panjang=%.2f' % luas)\n",
        "\n",
        "if __name__ == '__main__':\n",
        "    main()"
      ]
    }
  ]
}
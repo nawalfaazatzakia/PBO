{
  "nbformat": 4,
  "nbformat_minor": 0,
  "metadata": {
    "colab": {
      "provenance": [],
      "authorship_tag": "ABX9TyOfY9P13LW4g2lSmP3Y0jX0",
      "include_colab_link": true
    },
    "kernelspec": {
      "name": "python3",
      "display_name": "Python 3"
    },
    "language_info": {
      "name": "python"
    }
  },
  "cells": [
    {
      "cell_type": "markdown",
      "metadata": {
        "id": "view-in-github",
        "colab_type": "text"
      },
      "source": [
        "<a href=\"https://colab.research.google.com/github/nawalfaazatzakia/PBO/blob/main/class_trapesium.ipynb\" target=\"_parent\"><img src=\"https://colab.research.google.com/assets/colab-badge.svg\" alt=\"Open In Colab\"/></a>"
      ]
    },
    {
      "cell_type": "code",
      "execution_count": 1,
      "metadata": {
        "colab": {
          "base_uri": "https://localhost:8080/"
        },
        "id": "R57mI3-TQpvV",
        "outputId": "c1ebf4a3-563c-4518-8355-d0c304d71f5f"
      },
      "outputs": [
        {
          "output_type": "stream",
          "name": "stdout",
          "text": [
            "Luas trapesium=16.00\n"
          ]
        }
      ],
      "source": [
        "#kelas trapesium\n",
        "class Trapesium:\n",
        "    def __init__(self):\n",
        "        self.alas1 = 0.0\n",
        "        self.alas2 = 0.0\n",
        "        self.tinggi = 0.0\n",
        "\n",
        "def main():\n",
        "    #membuat objek dari kelas trapesium\n",
        "    obj = Trapesium()\n",
        "    #mengisi nilai ke dalam atribut obj\n",
        "    obj.alas1 = 5\n",
        "    obj.alas2 = 3\n",
        "    obj.tinggi = 4\n",
        "    #menggunakan atribut untuk perhitungan\n",
        "    luas = 0.5 * (obj.alas1 + obj.alas2) * obj.tinggi\n",
        "    print('Luas trapesium=%.2f' % luas)\n",
        "\n",
        "if __name__ == '__main__':\n",
        "    main()"
      ]
    }
  ]
}
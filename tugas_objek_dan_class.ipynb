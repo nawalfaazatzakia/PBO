{
  "nbformat": 4,
  "nbformat_minor": 0,
  "metadata": {
    "colab": {
      "provenance": [],
      "authorship_tag": "ABX9TyMYbRUweYgTlUNzbUJwhISi",
      "include_colab_link": true
    },
    "kernelspec": {
      "name": "python3",
      "display_name": "Python 3"
    },
    "language_info": {
      "name": "python"
    }
  },
  "cells": [
    {
      "cell_type": "markdown",
      "metadata": {
        "id": "view-in-github",
        "colab_type": "text"
      },
      "source": [
        "<a href=\"https://colab.research.google.com/github/nawalfaazatzakia/PBO/blob/main/tugas_objek_dan_class.ipynb\" target=\"_parent\"><img src=\"https://colab.research.google.com/assets/colab-badge.svg\" alt=\"Open In Colab\"/></a>"
      ]
    },
    {
      "cell_type": "code",
      "execution_count": 9,
      "metadata": {
        "id": "HvOGIr-X6W5o",
        "colab": {
          "base_uri": "https://localhost:8080/"
        },
        "outputId": "315a4f2d-c388-4c97-a80c-9e7f32112ac8"
      },
      "outputs": [
        {
          "output_type": "stream",
          "name": "stdout",
          "text": [
            "Budi details:\n",
            "Rambut: ikal\n",
            "Warna: hitam\n",
            "Michael details:\n",
            "Rambut: lurus\n",
            "Warna: pirang\n"
          ]
        }
      ],
      "source": [
        "class Person:\n",
        "\n",
        "    def __init__(self, rambut, warna):\n",
        "        self.rambut = rambut\n",
        "        self.warna = warna\n",
        "\n",
        "Budi = Person(\"ikal\", \"hitam\")\n",
        "Michael = Person(\"lurus\", \"pirang\")\n",
        "\n",
        "print('Budi details:')\n",
        "print('Rambut:', Budi.rambut)\n",
        "print('Warna:', Budi.warna)\n",
        "\n",
        "print('Michael details:')\n",
        "print('Rambut:', Michael.rambut)\n",
        "print('Warna:', Michael.warna)"
      ]
    }
  ]
}
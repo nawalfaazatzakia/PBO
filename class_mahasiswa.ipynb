{
  "nbformat": 4,
  "nbformat_minor": 0,
  "metadata": {
    "colab": {
      "provenance": [],
      "authorship_tag": "ABX9TyPTLU/IZFfbsix60KCteC0P",
      "include_colab_link": true
    },
    "kernelspec": {
      "name": "python3",
      "display_name": "Python 3"
    },
    "language_info": {
      "name": "python"
    }
  },
  "cells": [
    {
      "cell_type": "markdown",
      "metadata": {
        "id": "view-in-github",
        "colab_type": "text"
      },
      "source": [
        "<a href=\"https://colab.research.google.com/github/nawalfaazatzakia/PBO/blob/main/class_mahasiswa.ipynb\" target=\"_parent\"><img src=\"https://colab.research.google.com/assets/colab-badge.svg\" alt=\"Open In Colab\"/></a>"
      ]
    },
    {
      "cell_type": "code",
      "execution_count": null,
      "metadata": {
        "collapsed": true,
        "id": "mKgQ4zILLTAR"
      },
      "outputs": [],
      "source": [
        "# kelas Mahasiswa\n",
        "class Mahasiswa:\n",
        "    def __init__(self, nama, nim):\n",
        "        self.nama = nama\n",
        "        self.nim = nim\n",
        "        self.krs = []\n",
        "\n",
        "    def tambah_mata_kuliah(self, mata_kuliah):\n",
        "        self.krs.append(mata_kuliah)\n",
        "\n",
        "    def cetak_krs(self):\n",
        "        print(f\"KRS Mahasiswa: {self.nama} (NIM: {self.nim})\")\n",
        "        print(\"Mata Kuliah:\")\n",
        "        for mk in self.krs:\n",
        "            print(f\"- {mk}\")\n",
        "\n",
        "def main():\n",
        "    # Membuat objek dari kelas Mahasiswa\n",
        "    mhs = Mahasiswa(\"Nawal Faazat Zakia\", \"230705069\")\n",
        "\n",
        "    # Menambah mata kuliah ke dalam KRS\n",
        "    mhs.tambah_mata_kuliah(\"Pemrograman Python\")\n",
        "    mhs.tambah_mata_kuliah(\"Struktur Data\")\n",
        "    mhs.tambah_mata_kuliah(\"Basis Data\")\n",
        "\n",
        "    # Mencetak KRS\n",
        "    mhs.cetak_krs()\n",
        "\n",
        "if __name__ == \"__main__\":\n",
        "    main()"
      ]
    }
  ]
}